{
 "cells": [
  {
   "cell_type": "markdown",
   "metadata": {},
   "source": [
    "# EDA\n",
    "\n",
    "---\n",
    "\n",
    "We're going to be exploring our data!  So bear with me as I go down numerous rabbit holes...\n",
    "\n",
    "## Import libraries and read in our data"
   ]
  },
  {
   "cell_type": "code",
   "execution_count": 67,
   "metadata": {},
   "outputs": [],
   "source": [
    "import pandas as pd\n",
    "import numpy as np\n",
    "import matplotlib.pyplot as plt\n",
    "import seaborn as sns"
   ]
  },
  {
   "cell_type": "markdown",
   "metadata": {},
   "source": [
    "## `/r/explainlikeimfive` Data Exploration:"
   ]
  },
  {
   "cell_type": "code",
   "execution_count": 68,
   "metadata": {},
   "outputs": [],
   "source": [
    "eli5 = pd.read_csv('./data/eli5.csv')"
   ]
  },
  {
   "cell_type": "code",
   "execution_count": 69,
   "metadata": {},
   "outputs": [
    {
     "name": "stdout",
     "output_type": "stream",
     "text": [
      "<class 'pandas.core.frame.DataFrame'>\n",
      "RangeIndex: 5000 entries, 0 to 4999\n",
      "Data columns (total 5 columns):\n",
      " #   Column       Non-Null Count  Dtype \n",
      "---  ------       --------------  ----- \n",
      " 0   author       5000 non-null   object\n",
      " 1   created_utc  5000 non-null   int64 \n",
      " 2   selftext     3417 non-null   object\n",
      " 3   subreddit    5000 non-null   object\n",
      " 4   title        5000 non-null   object\n",
      "dtypes: int64(1), object(4)\n",
      "memory usage: 195.4+ KB\n"
     ]
    }
   ],
   "source": [
    "eli5.info()"
   ]
  },
  {
   "cell_type": "code",
   "execution_count": 70,
   "metadata": {},
   "outputs": [
    {
     "data": {
      "text/plain": [
       "[deleted]           295\n",
       "jade885              11\n",
       "RicardoMilossGoa     10\n",
       "__dp_Y2k              8\n",
       "luneth77              7\n",
       "                   ... \n",
       "Cheesepantsu          1\n",
       "jordan_pancakes       1\n",
       "biscuitsandrum        1\n",
       "yeronyms              1\n",
       "SincerelyAsh_         1\n",
       "Name: author, Length: 3930, dtype: int64"
      ]
     },
     "execution_count": 70,
     "metadata": {},
     "output_type": "execute_result"
    }
   ],
   "source": [
    "eli5['author'].value_counts()"
   ]
  },
  {
   "cell_type": "code",
   "execution_count": 71,
   "metadata": {},
   "outputs": [],
   "source": [
    "eli5['title_word_count'] = eli5['title'].map(lambda x: len(x.split(' ')))"
   ]
  },
  {
   "cell_type": "code",
   "execution_count": 72,
   "metadata": {},
   "outputs": [
    {
     "data": {
      "image/png": "[encoded data removed]",
      "text/plain": [
       "<Figure size 432x288 with 1 Axes>"
      ]
     },
     "metadata": {
      "needs_background": "light"
     },
     "output_type": "display_data"
    }
   ],
   "source": [
    "plt.hist(eli5['title_word_count'], bins = 25, color = 'goldenrod')\n",
    "plt.title('Distribution of Title Word Counts on /r/explainlikeimfive')\n",
    "plt.xlabel('Word Count')\n",
    "plt.ylabel('Number of Messages');"
   ]
  },
  {
   "cell_type": "markdown",
   "metadata": {},
   "source": [
    "### Unique Users\n",
    "\n",
    "I want to see how many unique users there are in this subreddit.  This might tell me a few things:\n",
    "\n",
    "- if there aren't a lot of unique posters, that means most posts are coming from a select few and this might increase my model's chances of guessing the right subreddit\n",
    "- this could also lead to specific words that common posters would use and maybe my model could pick up on that"
   ]
  },
  {
   "cell_type": "code",
   "execution_count": 73,
   "metadata": {},
   "outputs": [
    {
     "data": {
      "text/plain": [
       "3930"
      ]
     },
     "execution_count": 73,
     "metadata": {},
     "output_type": "execute_result"
    }
   ],
   "source": [
    "len(eli5['author'].unique())"
   ]
  },
  {
   "cell_type": "markdown",
   "metadata": {},
   "source": [
    "We can see below that there are a lot of 'deleted' accounts, which most likely are associated with 'throwaway' accounts.  This is a common phenomenon in which users will make a new Reddit account simply to ask an anonymous question because the information is too sensitive to post with their actual username due to either they don't want their friends and family finding out or to protect their own privacy from other Reddit users."
   ]
  },
  {
   "cell_type": "code",
   "execution_count": 74,
   "metadata": {},
   "outputs": [
    {
     "data": {
      "text/plain": [
       "[deleted]           295\n",
       "jade885              11\n",
       "RicardoMilossGoa     10\n",
       "__dp_Y2k              8\n",
       "luneth77              7\n",
       "walids                7\n",
       "blorentz38            6\n",
       "castleblack23         6\n",
       "thomass518            6\n",
       "MonkeyRides           6\n",
       "Name: author, dtype: int64"
      ]
     },
     "execution_count": 74,
     "metadata": {},
     "output_type": "execute_result"
    }
   ],
   "source": [
    "# Top 10 authors in eli5\n",
    "eli5['author'].value_counts().head(10)"
   ]
  },
  {
   "cell_type": "code",
   "execution_count": 75,
   "metadata": {},
   "outputs": [
    {
     "data": {
      "text/html": [
       "<div>\n",
       "<style scoped>\n",
       "    .dataframe tbody tr th:only-of-type {\n",
       "        vertical-align: middle;\n",
       "    }\n",
       "\n",
       "    .dataframe tbody tr th {\n",
       "        vertical-align: top;\n",
       "    }\n",
       "\n",
       "    .dataframe thead th {\n",
       "        text-align: right;\n",
       "    }\n",
       "</style>\n",
       "<table border=\"1\" class=\"dataframe\">\n",
       "  <thead>\n",
       "    <tr style=\"text-align: right;\">\n",
       "      <th></th>\n",
       "      <th>author</th>\n",
       "      <th>created_utc</th>\n",
       "      <th>selftext</th>\n",
       "      <th>subreddit</th>\n",
       "      <th>title</th>\n",
       "      <th>title_word_count</th>\n",
       "    </tr>\n",
       "  </thead>\n",
       "  <tbody>\n",
       "    <tr>\n",
       "      <th>2</th>\n",
       "      <td>[deleted]</td>\n",
       "      <td>1595208362</td>\n",
       "      <td>NaN</td>\n",
       "      <td>explainlikeimfive</td>\n",
       "      <td>Why are horse shoes necessary when they seem t...</td>\n",
       "      <td>16</td>\n",
       "    </tr>\n",
       "    <tr>\n",
       "      <th>15</th>\n",
       "      <td>[deleted]</td>\n",
       "      <td>1595206406</td>\n",
       "      <td>NaN</td>\n",
       "      <td>explainlikeimfive</td>\n",
       "      <td>ELI5: What makes colorful things that color?</td>\n",
       "      <td>7</td>\n",
       "    </tr>\n",
       "    <tr>\n",
       "      <th>16</th>\n",
       "      <td>[deleted]</td>\n",
       "      <td>1595205893</td>\n",
       "      <td>NaN</td>\n",
       "      <td>explainlikeimfive</td>\n",
       "      <td>ELI5: why do we often cry when we see someone ...</td>\n",
       "      <td>12</td>\n",
       "    </tr>\n",
       "    <tr>\n",
       "      <th>19</th>\n",
       "      <td>[deleted]</td>\n",
       "      <td>1595205234</td>\n",
       "      <td>NaN</td>\n",
       "      <td>explainlikeimfive</td>\n",
       "      <td>eli5: Why did countries bother locking down at...</td>\n",
       "      <td>29</td>\n",
       "    </tr>\n",
       "    <tr>\n",
       "      <th>24</th>\n",
       "      <td>[deleted]</td>\n",
       "      <td>1595204673</td>\n",
       "      <td>NaN</td>\n",
       "      <td>explainlikeimfive</td>\n",
       "      <td>ELI5: why do I get dizzy from spinning for 10 ...</td>\n",
       "      <td>15</td>\n",
       "    </tr>\n",
       "    <tr>\n",
       "      <th>...</th>\n",
       "      <td>...</td>\n",
       "      <td>...</td>\n",
       "      <td>...</td>\n",
       "      <td>...</td>\n",
       "      <td>...</td>\n",
       "      <td>...</td>\n",
       "    </tr>\n",
       "    <tr>\n",
       "      <th>4656</th>\n",
       "      <td>[deleted]</td>\n",
       "      <td>1594304118</td>\n",
       "      <td>NaN</td>\n",
       "      <td>explainlikeimfive</td>\n",
       "      <td>Eli5: I don’t understand how the Coos who kill...</td>\n",
       "      <td>32</td>\n",
       "    </tr>\n",
       "    <tr>\n",
       "      <th>4667</th>\n",
       "      <td>[deleted]</td>\n",
       "      <td>1594302626</td>\n",
       "      <td>NaN</td>\n",
       "      <td>explainlikeimfive</td>\n",
       "      <td>ELI5: If dogs have such a strong sense of smal...</td>\n",
       "      <td>35</td>\n",
       "    </tr>\n",
       "    <tr>\n",
       "      <th>4978</th>\n",
       "      <td>[deleted]</td>\n",
       "      <td>1594239722</td>\n",
       "      <td>NaN</td>\n",
       "      <td>explainlikeimfive</td>\n",
       "      <td>ELI5: Difference between 32-bit operating syst...</td>\n",
       "      <td>10</td>\n",
       "    </tr>\n",
       "    <tr>\n",
       "      <th>4989</th>\n",
       "      <td>[deleted]</td>\n",
       "      <td>1594238357</td>\n",
       "      <td>[deleted]</td>\n",
       "      <td>explainlikeimfive</td>\n",
       "      <td>ELI5: What is a limited company?</td>\n",
       "      <td>6</td>\n",
       "    </tr>\n",
       "    <tr>\n",
       "      <th>4993</th>\n",
       "      <td>[deleted]</td>\n",
       "      <td>1594237832</td>\n",
       "      <td>[deleted]</td>\n",
       "      <td>explainlikeimfive</td>\n",
       "      <td>ELI5: Why is it so hard to play video games ly...</td>\n",
       "      <td>12</td>\n",
       "    </tr>\n",
       "  </tbody>\n",
       "</table>\n",
       "<p>295 rows × 6 columns</p>\n",
       "</div>"
      ],
      "text/plain": [
       "         author  created_utc   selftext          subreddit  \\\n",
       "2     [deleted]   1595208362        NaN  explainlikeimfive   \n",
       "15    [deleted]   1595206406        NaN  explainlikeimfive   \n",
       "16    [deleted]   1595205893        NaN  explainlikeimfive   \n",
       "19    [deleted]   1595205234        NaN  explainlikeimfive   \n",
       "24    [deleted]   1595204673        NaN  explainlikeimfive   \n",
       "...         ...          ...        ...                ...   \n",
       "4656  [deleted]   1594304118        NaN  explainlikeimfive   \n",
       "4667  [deleted]   1594302626        NaN  explainlikeimfive   \n",
       "4978  [deleted]   1594239722        NaN  explainlikeimfive   \n",
       "4989  [deleted]   1594238357  [deleted]  explainlikeimfive   \n",
       "4993  [deleted]   1594237832  [deleted]  explainlikeimfive   \n",
       "\n",
       "                                                  title  title_word_count  \n",
       "2     Why are horse shoes necessary when they seem t...                16  \n",
       "15         ELI5: What makes colorful things that color?                 7  \n",
       "16    ELI5: why do we often cry when we see someone ...                12  \n",
       "19    eli5: Why did countries bother locking down at...                29  \n",
       "24    ELI5: why do I get dizzy from spinning for 10 ...                15  \n",
       "...                                                 ...               ...  \n",
       "4656  Eli5: I don’t understand how the Coos who kill...                32  \n",
       "4667  ELI5: If dogs have such a strong sense of smal...                35  \n",
       "4978  ELI5: Difference between 32-bit operating syst...                10  \n",
       "4989                   ELI5: What is a limited company?                 6  \n",
       "4993  ELI5: Why is it so hard to play video games ly...                12  \n",
       "\n",
       "[295 rows x 6 columns]"
      ]
     },
     "execution_count": 75,
     "metadata": {},
     "output_type": "execute_result"
    }
   ],
   "source": [
    "eli5.loc[eli5['author'] == '[deleted]', :]"
   ]
  },
  {
   "cell_type": "markdown",
   "metadata": {},
   "source": [
    "### Impute missing self text column\n",
    "\n",
    "I will impute the 'selftext' column with 'none' because the \"missing values\" from the self text column is just a user who intentionally posted something that doesn't have any self text.  So, it would make sense that those cells are empty."
   ]
  },
  {
   "cell_type": "code",
   "execution_count": 76,
   "metadata": {},
   "outputs": [],
   "source": [
    "eli5['selftext'] = eli5['selftext'].fillna('None')"
   ]
  },
  {
   "cell_type": "code",
   "execution_count": 77,
   "metadata": {},
   "outputs": [
    {
     "data": {
      "text/plain": [
       "author              0\n",
       "created_utc         0\n",
       "selftext            0\n",
       "subreddit           0\n",
       "title               0\n",
       "title_word_count    0\n",
       "dtype: int64"
      ]
     },
     "execution_count": 77,
     "metadata": {},
     "output_type": "execute_result"
    }
   ],
   "source": [
    "eli5.isnull().sum()"
   ]
  },
  {
   "cell_type": "code",
   "execution_count": 78,
   "metadata": {},
   "outputs": [],
   "source": [
    "eli5['selftext_word_count'] = eli5['selftext'].map(lambda x: len(x.split(' ')))"
   ]
  },
  {
   "cell_type": "code",
   "execution_count": 79,
   "metadata": {},
   "outputs": [
    {
     "name": "stderr",
     "output_type": "stream",
     "text": [
      "/opt/anaconda3/lib/python3.7/site-packages/pandas/core/ops/array_ops.py:253: FutureWarning: elementwise comparison failed; returning scalar instead, but in the future will perform elementwise comparison\n",
      "  res_values = method(rvalues)\n"
     ]
    },
    {
     "data": {
      "text/plain": [
       "0        1\n",
       "1        1\n",
       "2        1\n",
       "3        1\n",
       "4        1\n",
       "        ..\n",
       "4995    11\n",
       "4996     1\n",
       "4997     1\n",
       "4998    16\n",
       "4999     1\n",
       "Name: selftext_word_count, Length: 5000, dtype: int64"
      ]
     },
     "execution_count": 79,
     "metadata": {},
     "output_type": "execute_result"
    }
   ],
   "source": [
    "eli5.loc[eli5['selftext_word_count']!='None','selftext_word_count']"
   ]
  },
  {
   "cell_type": "code",
   "execution_count": 80,
   "metadata": {},
   "outputs": [
    {
     "data": {
      "image/png": "[encoded data removed]",
      "text/plain": [
       "<Figure size 432x288 with 1 Axes>"
      ]
     },
     "metadata": {
      "needs_background": "light"
     },
     "output_type": "display_data"
    }
   ],
   "source": [
    "plt.hist(eli5.loc[eli5['selftext_word_count']!='None', 'selftext_word_count'], bins=50, color='goldenrod')\n",
    "plt.xlim(0, 150);"
   ]
  },
  {
   "cell_type": "markdown",
   "metadata": {},
   "source": [
    "## `/r/advice` Data Exploration:"
   ]
  },
  {
   "cell_type": "code",
   "execution_count": 81,
   "metadata": {},
   "outputs": [
    {
     "data": {
      "text/html": [
       "<div>\n",
       "<style scoped>\n",
       "    .dataframe tbody tr th:only-of-type {\n",
       "        vertical-align: middle;\n",
       "    }\n",
       "\n",
       "    .dataframe tbody tr th {\n",
       "        vertical-align: top;\n",
       "    }\n",
       "\n",
       "    .dataframe thead th {\n",
       "        text-align: right;\n",
       "    }\n",
       "</style>\n",
       "<table border=\"1\" class=\"dataframe\">\n",
       "  <thead>\n",
       "    <tr style=\"text-align: right;\">\n",
       "      <th></th>\n",
       "      <th>author</th>\n",
       "      <th>created_utc</th>\n",
       "      <th>selftext</th>\n",
       "      <th>subreddit</th>\n",
       "      <th>title</th>\n",
       "    </tr>\n",
       "  </thead>\n",
       "  <tbody>\n",
       "    <tr>\n",
       "      <th>0</th>\n",
       "      <td>OnRark</td>\n",
       "      <td>1595489993</td>\n",
       "      <td>Im 21M. \\n\\nAs the title says, My grandad true...</td>\n",
       "      <td>Advice</td>\n",
       "      <td>My Grandad’s my best friend.</td>\n",
       "    </tr>\n",
       "    <tr>\n",
       "      <th>1</th>\n",
       "      <td>Dazzlinn</td>\n",
       "      <td>1595489985</td>\n",
       "      <td>My best friend (18M) has his birthday this wee...</td>\n",
       "      <td>Advice</td>\n",
       "      <td>Should I text my best friend who ghosted on me...</td>\n",
       "    </tr>\n",
       "    <tr>\n",
       "      <th>2</th>\n",
       "      <td>[deleted]</td>\n",
       "      <td>1595489878</td>\n",
       "      <td>NaN</td>\n",
       "      <td>Advice</td>\n",
       "      <td>I (27M) booked an escort (48f) for tomorrow bu...</td>\n",
       "    </tr>\n",
       "    <tr>\n",
       "      <th>3</th>\n",
       "      <td>zaachy</td>\n",
       "      <td>1595489863</td>\n",
       "      <td>So my best friend for 3 years all of a sudden ...</td>\n",
       "      <td>Advice</td>\n",
       "      <td>I need some help on what to do.</td>\n",
       "    </tr>\n",
       "    <tr>\n",
       "      <th>4</th>\n",
       "      <td>DoodleJack1</td>\n",
       "      <td>1595489688</td>\n",
       "      <td>I’m a 22 year old student from the UK, the fin...</td>\n",
       "      <td>Advice</td>\n",
       "      <td>Getting over it (a mental block)</td>\n",
       "    </tr>\n",
       "  </tbody>\n",
       "</table>\n",
       "</div>"
      ],
      "text/plain": [
       "        author  created_utc  \\\n",
       "0       OnRark   1595489993   \n",
       "1     Dazzlinn   1595489985   \n",
       "2    [deleted]   1595489878   \n",
       "3       zaachy   1595489863   \n",
       "4  DoodleJack1   1595489688   \n",
       "\n",
       "                                            selftext subreddit  \\\n",
       "0  Im 21M. \\n\\nAs the title says, My grandad true...    Advice   \n",
       "1  My best friend (18M) has his birthday this wee...    Advice   \n",
       "2                                                NaN    Advice   \n",
       "3  So my best friend for 3 years all of a sudden ...    Advice   \n",
       "4  I’m a 22 year old student from the UK, the fin...    Advice   \n",
       "\n",
       "                                               title  \n",
       "0                       My Grandad’s my best friend.  \n",
       "1  Should I text my best friend who ghosted on me...  \n",
       "2  I (27M) booked an escort (48f) for tomorrow bu...  \n",
       "3                    I need some help on what to do.  \n",
       "4                   Getting over it (a mental block)  "
      ]
     },
     "execution_count": 81,
     "metadata": {},
     "output_type": "execute_result"
    }
   ],
   "source": [
    "advice = pd.read_csv('./data/advice.csv')\n",
    "advice.head()"
   ]
  },
  {
   "cell_type": "code",
   "execution_count": 82,
   "metadata": {},
   "outputs": [
    {
     "name": "stdout",
     "output_type": "stream",
     "text": [
      "<class 'pandas.core.frame.DataFrame'>\n",
      "RangeIndex: 5000 entries, 0 to 4999\n",
      "Data columns (total 5 columns):\n",
      " #   Column       Non-Null Count  Dtype \n",
      "---  ------       --------------  ----- \n",
      " 0   author       5000 non-null   object\n",
      " 1   created_utc  5000 non-null   int64 \n",
      " 2   selftext     4715 non-null   object\n",
      " 3   subreddit    5000 non-null   object\n",
      " 4   title        5000 non-null   object\n",
      "dtypes: int64(1), object(4)\n",
      "memory usage: 195.4+ KB\n"
     ]
    }
   ],
   "source": [
    "advice.info()"
   ]
  },
  {
   "cell_type": "markdown",
   "metadata": {},
   "source": [
    "**Adding a word count column:**\n",
    "\n",
    "I am curious to see what the distribution of the title word counts will be.  How many words do people usually use for the title?  Note:  this is only for the title.  I will be doing the same for the self text."
   ]
  },
  {
   "cell_type": "code",
   "execution_count": 83,
   "metadata": {},
   "outputs": [],
   "source": [
    "advice['title_word_count'] = advice['title'].map(lambda x: len(x.split(' ')))"
   ]
  },
  {
   "cell_type": "code",
   "execution_count": 84,
   "metadata": {},
   "outputs": [
    {
     "data": {
      "image/png": "[encoded data removed]",
      "text/plain": [
       "<Figure size 432x288 with 1 Axes>"
      ]
     },
     "metadata": {
      "needs_background": "light"
     },
     "output_type": "display_data"
    }
   ],
   "source": [
    "plt.hist(advice['title_word_count'], bins = 25, color = 'cornflowerblue')\n",
    "plt.title('Distribution of Title Word Counts on /r/advice')\n",
    "plt.xlabel('Word Count')\n",
    "plt.ylabel('Number of Messages');"
   ]
  },
  {
   "cell_type": "markdown",
   "metadata": {},
   "source": [
    "From the cell below, we can see that there are more 'deleted' users than `eli5` probably due to the fact that this is a legal advice subreddit and more people would want to stay anonymous.  Also, besides the 342 deleted users, there is more of a uniforma distribution among the users."
   ]
  },
  {
   "cell_type": "code",
   "execution_count": 85,
   "metadata": {},
   "outputs": [],
   "source": [
    "top_10_authors = advice['author'].value_counts().head(20)"
   ]
  },
  {
   "cell_type": "code",
   "execution_count": 86,
   "metadata": {},
   "outputs": [],
   "source": [
    "df = pd.DataFrame(top_10_authors)"
   ]
  },
  {
   "cell_type": "code",
   "execution_count": 87,
   "metadata": {},
   "outputs": [
    {
     "data": {
      "image/png": "[encoded data removed]",
      "text/plain": [
       "<Figure size 792x288 with 1 Axes>"
      ]
     },
     "metadata": {
      "needs_background": "light"
     },
     "output_type": "display_data"
    }
   ],
   "source": [
    "plt.figure(figsize = (11,4))\n",
    "plt.bar(data = df, x = df.index[1:], height = df['author'][1:], color = 'cornflowerblue')\n",
    "plt.xticks(rotation=45);"
   ]
  },
  {
   "cell_type": "markdown",
   "metadata": {},
   "source": [
    "### Impute missing self text column"
   ]
  },
  {
   "cell_type": "code",
   "execution_count": 88,
   "metadata": {},
   "outputs": [],
   "source": [
    "advice['selftext'] = advice['selftext'].fillna('None')"
   ]
  },
  {
   "cell_type": "markdown",
   "metadata": {},
   "source": [
    "**Adding a word count column (for self text):**"
   ]
  },
  {
   "cell_type": "code",
   "execution_count": 89,
   "metadata": {},
   "outputs": [],
   "source": [
    "advice['selftext_word_count'] = advice['selftext'].map(lambda x: len(x.split(' ')))"
   ]
  },
  {
   "cell_type": "code",
   "execution_count": 90,
   "metadata": {},
   "outputs": [
    {
     "data": {
      "text/html": [
       "<div>\n",
       "<style scoped>\n",
       "    .dataframe tbody tr th:only-of-type {\n",
       "        vertical-align: middle;\n",
       "    }\n",
       "\n",
       "    .dataframe tbody tr th {\n",
       "        vertical-align: top;\n",
       "    }\n",
       "\n",
       "    .dataframe thead th {\n",
       "        text-align: right;\n",
       "    }\n",
       "</style>\n",
       "<table border=\"1\" class=\"dataframe\">\n",
       "  <thead>\n",
       "    <tr style=\"text-align: right;\">\n",
       "      <th></th>\n",
       "      <th>author</th>\n",
       "      <th>created_utc</th>\n",
       "      <th>selftext</th>\n",
       "      <th>subreddit</th>\n",
       "      <th>title</th>\n",
       "      <th>title_word_count</th>\n",
       "      <th>selftext_word_count</th>\n",
       "    </tr>\n",
       "  </thead>\n",
       "  <tbody>\n",
       "    <tr>\n",
       "      <th>0</th>\n",
       "      <td>OnRark</td>\n",
       "      <td>1595489993</td>\n",
       "      <td>Im 21M. \\n\\nAs the title says, My grandad true...</td>\n",
       "      <td>Advice</td>\n",
       "      <td>My Grandad’s my best friend.</td>\n",
       "      <td>5</td>\n",
       "      <td>102</td>\n",
       "    </tr>\n",
       "    <tr>\n",
       "      <th>1</th>\n",
       "      <td>Dazzlinn</td>\n",
       "      <td>1595489985</td>\n",
       "      <td>My best friend (18M) has his birthday this wee...</td>\n",
       "      <td>Advice</td>\n",
       "      <td>Should I text my best friend who ghosted on me...</td>\n",
       "      <td>13</td>\n",
       "      <td>139</td>\n",
       "    </tr>\n",
       "    <tr>\n",
       "      <th>2</th>\n",
       "      <td>[deleted]</td>\n",
       "      <td>1595489878</td>\n",
       "      <td>None</td>\n",
       "      <td>Advice</td>\n",
       "      <td>I (27M) booked an escort (48f) for tomorrow bu...</td>\n",
       "      <td>19</td>\n",
       "      <td>1</td>\n",
       "    </tr>\n",
       "    <tr>\n",
       "      <th>3</th>\n",
       "      <td>zaachy</td>\n",
       "      <td>1595489863</td>\n",
       "      <td>So my best friend for 3 years all of a sudden ...</td>\n",
       "      <td>Advice</td>\n",
       "      <td>I need some help on what to do.</td>\n",
       "      <td>8</td>\n",
       "      <td>217</td>\n",
       "    </tr>\n",
       "    <tr>\n",
       "      <th>4</th>\n",
       "      <td>DoodleJack1</td>\n",
       "      <td>1595489688</td>\n",
       "      <td>I’m a 22 year old student from the UK, the fin...</td>\n",
       "      <td>Advice</td>\n",
       "      <td>Getting over it (a mental block)</td>\n",
       "      <td>6</td>\n",
       "      <td>258</td>\n",
       "    </tr>\n",
       "    <tr>\n",
       "      <th>...</th>\n",
       "      <td>...</td>\n",
       "      <td>...</td>\n",
       "      <td>...</td>\n",
       "      <td>...</td>\n",
       "      <td>...</td>\n",
       "      <td>...</td>\n",
       "      <td>...</td>\n",
       "    </tr>\n",
       "    <tr>\n",
       "      <th>4995</th>\n",
       "      <td>DustinJohnsonsTears</td>\n",
       "      <td>1595112336</td>\n",
       "      <td>Okay so my (24M) best friend (24F) has had an ...</td>\n",
       "      <td>Advice</td>\n",
       "      <td>How to help my friend with severe depression?</td>\n",
       "      <td>8</td>\n",
       "      <td>484</td>\n",
       "    </tr>\n",
       "    <tr>\n",
       "      <th>4996</th>\n",
       "      <td>sea316</td>\n",
       "      <td>1595112293</td>\n",
       "      <td>[removed]</td>\n",
       "      <td>Advice</td>\n",
       "      <td>My parents support trump and my brother isnt s...</td>\n",
       "      <td>12</td>\n",
       "      <td>1</td>\n",
       "    </tr>\n",
       "    <tr>\n",
       "      <th>4997</th>\n",
       "      <td>gothiccthot666</td>\n",
       "      <td>1595112270</td>\n",
       "      <td>My family has a long history of depression but...</td>\n",
       "      <td>Advice</td>\n",
       "      <td>My mother is suicidal</td>\n",
       "      <td>4</td>\n",
       "      <td>218</td>\n",
       "    </tr>\n",
       "    <tr>\n",
       "      <th>4998</th>\n",
       "      <td>NeonStormFire</td>\n",
       "      <td>1595112093</td>\n",
       "      <td>So, my partner(27M) and I(25F) will be getting...</td>\n",
       "      <td>Advice</td>\n",
       "      <td>How to bring up moving out to parents?</td>\n",
       "      <td>8</td>\n",
       "      <td>187</td>\n",
       "    </tr>\n",
       "    <tr>\n",
       "      <th>4999</th>\n",
       "      <td>ajksbwkskt</td>\n",
       "      <td>1595112050</td>\n",
       "      <td>Hi I’m 17f in the uk (for context) and a few w...</td>\n",
       "      <td>Advice</td>\n",
       "      <td>Stolen mail</td>\n",
       "      <td>2</td>\n",
       "      <td>197</td>\n",
       "    </tr>\n",
       "  </tbody>\n",
       "</table>\n",
       "<p>5000 rows × 7 columns</p>\n",
       "</div>"
      ],
      "text/plain": [
       "                   author  created_utc  \\\n",
       "0                  OnRark   1595489993   \n",
       "1                Dazzlinn   1595489985   \n",
       "2               [deleted]   1595489878   \n",
       "3                  zaachy   1595489863   \n",
       "4             DoodleJack1   1595489688   \n",
       "...                   ...          ...   \n",
       "4995  DustinJohnsonsTears   1595112336   \n",
       "4996               sea316   1595112293   \n",
       "4997       gothiccthot666   1595112270   \n",
       "4998        NeonStormFire   1595112093   \n",
       "4999           ajksbwkskt   1595112050   \n",
       "\n",
       "                                               selftext subreddit  \\\n",
       "0     Im 21M. \\n\\nAs the title says, My grandad true...    Advice   \n",
       "1     My best friend (18M) has his birthday this wee...    Advice   \n",
       "2                                                  None    Advice   \n",
       "3     So my best friend for 3 years all of a sudden ...    Advice   \n",
       "4     I’m a 22 year old student from the UK, the fin...    Advice   \n",
       "...                                                 ...       ...   \n",
       "4995  Okay so my (24M) best friend (24F) has had an ...    Advice   \n",
       "4996                                          [removed]    Advice   \n",
       "4997  My family has a long history of depression but...    Advice   \n",
       "4998  So, my partner(27M) and I(25F) will be getting...    Advice   \n",
       "4999  Hi I’m 17f in the uk (for context) and a few w...    Advice   \n",
       "\n",
       "                                                  title  title_word_count  \\\n",
       "0                          My Grandad’s my best friend.                 5   \n",
       "1     Should I text my best friend who ghosted on me...                13   \n",
       "2     I (27M) booked an escort (48f) for tomorrow bu...                19   \n",
       "3                       I need some help on what to do.                 8   \n",
       "4                      Getting over it (a mental block)                 6   \n",
       "...                                                 ...               ...   \n",
       "4995      How to help my friend with severe depression?                 8   \n",
       "4996  My parents support trump and my brother isnt s...                12   \n",
       "4997                              My mother is suicidal                 4   \n",
       "4998             How to bring up moving out to parents?                 8   \n",
       "4999                                        Stolen mail                 2   \n",
       "\n",
       "      selftext_word_count  \n",
       "0                     102  \n",
       "1                     139  \n",
       "2                       1  \n",
       "3                     217  \n",
       "4                     258  \n",
       "...                   ...  \n",
       "4995                  484  \n",
       "4996                    1  \n",
       "4997                  218  \n",
       "4998                  187  \n",
       "4999                  197  \n",
       "\n",
       "[5000 rows x 7 columns]"
      ]
     },
     "execution_count": 90,
     "metadata": {},
     "output_type": "execute_result"
    }
   ],
   "source": [
    "advice"
   ]
  },
  {
   "cell_type": "markdown",
   "metadata": {},
   "source": [
    "**The distribution of self text word count:**"
   ]
  },
  {
   "cell_type": "code",
   "execution_count": 48,
   "metadata": {},
   "outputs": [
    {
     "data": {
      "image/png": "[encoded data removed]",
      "text/plain": [
       "<Figure size 432x288 with 1 Axes>"
      ]
     },
     "metadata": {
      "needs_background": "light"
     },
     "output_type": "display_data"
    }
   ],
   "source": [
    "plt.hist(advice.loc[advice['selftext_word_count'],'selftext_word_count'], bins=50, color='cornflowerblue')\n",
    "plt.xlabel('Word Count')\n",
    "plt.ylabel('Number of Posts')\n",
    "plt.xlim(0, 800);"
   ]
  },
  {
   "cell_type": "markdown",
   "metadata": {},
   "source": [
    "Because the imputed 'None' was added to quite a few of these rows, what would the distribution if that was taken out entirely from our graph?"
   ]
  },
  {
   "cell_type": "code",
   "execution_count": 23,
   "metadata": {},
   "outputs": [
    {
     "name": "stderr",
     "output_type": "stream",
     "text": [
      "/opt/anaconda3/lib/python3.7/site-packages/pandas/core/ops/array_ops.py:253: FutureWarning: elementwise comparison failed; returning scalar instead, but in the future will perform elementwise comparison\n",
      "  res_values = method(rvalues)\n"
     ]
    },
    {
     "data": {
      "image/png": "[encoded data removed]",
      "text/plain": [
       "<Figure size 432x288 with 1 Axes>"
      ]
     },
     "metadata": {
      "needs_background": "light"
     },
     "output_type": "display_data"
    }
   ],
   "source": [
    "plt.hist(advice.loc[advice['selftext_word_count']!='None','selftext_word_count'], bins=70, color='cornflowerblue')\n",
    "plt.xlim(0, 800);"
   ]
  },
  {
   "cell_type": "markdown",
   "metadata": {},
   "source": [
    "## Concatenate the two dataframes"
   ]
  },
  {
   "cell_type": "code",
   "execution_count": 116,
   "metadata": {},
   "outputs": [
    {
     "data": {
      "text/html": [
       "<div>\n",
       "<style scoped>\n",
       "    .dataframe tbody tr th:only-of-type {\n",
       "        vertical-align: middle;\n",
       "    }\n",
       "\n",
       "    .dataframe tbody tr th {\n",
       "        vertical-align: top;\n",
       "    }\n",
       "\n",
       "    .dataframe thead th {\n",
       "        text-align: right;\n",
       "    }\n",
       "</style>\n",
       "<table border=\"1\" class=\"dataframe\">\n",
       "  <thead>\n",
       "    <tr style=\"text-align: right;\">\n",
       "      <th></th>\n",
       "      <th>author</th>\n",
       "      <th>created_utc</th>\n",
       "      <th>selftext</th>\n",
       "      <th>subreddit</th>\n",
       "      <th>title</th>\n",
       "      <th>title_word_count</th>\n",
       "      <th>selftext_word_count</th>\n",
       "    </tr>\n",
       "  </thead>\n",
       "  <tbody>\n",
       "    <tr>\n",
       "      <th>0</th>\n",
       "      <td>mwilliams7187</td>\n",
       "      <td>1595208496</td>\n",
       "      <td>[removed]</td>\n",
       "      <td>explainlikeimfive</td>\n",
       "      <td>ELI5: If our Sun is a Star, does that mean mos...</td>\n",
       "      <td>26</td>\n",
       "      <td>1</td>\n",
       "    </tr>\n",
       "    <tr>\n",
       "      <th>1</th>\n",
       "      <td>salzal</td>\n",
       "      <td>1595208420</td>\n",
       "      <td>[removed]</td>\n",
       "      <td>explainlikeimfive</td>\n",
       "      <td>Eli5: If wearing a face mask doesn’t reduce ox...</td>\n",
       "      <td>21</td>\n",
       "      <td>1</td>\n",
       "    </tr>\n",
       "    <tr>\n",
       "      <th>2</th>\n",
       "      <td>[deleted]</td>\n",
       "      <td>1595208362</td>\n",
       "      <td>None</td>\n",
       "      <td>explainlikeimfive</td>\n",
       "      <td>Why are horse shoes necessary when they seem t...</td>\n",
       "      <td>16</td>\n",
       "      <td>1</td>\n",
       "    </tr>\n",
       "    <tr>\n",
       "      <th>3</th>\n",
       "      <td>Bar_Delicious</td>\n",
       "      <td>1595208332</td>\n",
       "      <td>[removed]</td>\n",
       "      <td>explainlikeimfive</td>\n",
       "      <td>Government</td>\n",
       "      <td>1</td>\n",
       "      <td>1</td>\n",
       "    </tr>\n",
       "    <tr>\n",
       "      <th>4</th>\n",
       "      <td>GarbageMiserable0x0</td>\n",
       "      <td>1595208225</td>\n",
       "      <td>[removed]</td>\n",
       "      <td>explainlikeimfive</td>\n",
       "      <td>Do you want to get free games and prizes in yo...</td>\n",
       "      <td>14</td>\n",
       "      <td>1</td>\n",
       "    </tr>\n",
       "  </tbody>\n",
       "</table>\n",
       "</div>"
      ],
      "text/plain": [
       "                author  created_utc   selftext          subreddit  \\\n",
       "0        mwilliams7187   1595208496  [removed]  explainlikeimfive   \n",
       "1               salzal   1595208420  [removed]  explainlikeimfive   \n",
       "2            [deleted]   1595208362       None  explainlikeimfive   \n",
       "3        Bar_Delicious   1595208332  [removed]  explainlikeimfive   \n",
       "4  GarbageMiserable0x0   1595208225  [removed]  explainlikeimfive   \n",
       "\n",
       "                                               title  title_word_count  \\\n",
       "0  ELI5: If our Sun is a Star, does that mean mos...                26   \n",
       "1  Eli5: If wearing a face mask doesn’t reduce ox...                21   \n",
       "2  Why are horse shoes necessary when they seem t...                16   \n",
       "3                                         Government                 1   \n",
       "4  Do you want to get free games and prizes in yo...                14   \n",
       "\n",
       "   selftext_word_count  \n",
       "0                    1  \n",
       "1                    1  \n",
       "2                    1  \n",
       "3                    1  \n",
       "4                    1  "
      ]
     },
     "execution_count": 116,
     "metadata": {},
     "output_type": "execute_result"
    }
   ],
   "source": [
    "eli5.head()"
   ]
  },
  {
   "cell_type": "code",
   "execution_count": 49,
   "metadata": {},
   "outputs": [
    {
     "data": {
      "text/html": [
       "<div>\n",
       "<style scoped>\n",
       "    .dataframe tbody tr th:only-of-type {\n",
       "        vertical-align: middle;\n",
       "    }\n",
       "\n",
       "    .dataframe tbody tr th {\n",
       "        vertical-align: top;\n",
       "    }\n",
       "\n",
       "    .dataframe thead th {\n",
       "        text-align: right;\n",
       "    }\n",
       "</style>\n",
       "<table border=\"1\" class=\"dataframe\">\n",
       "  <thead>\n",
       "    <tr style=\"text-align: right;\">\n",
       "      <th></th>\n",
       "      <th>author</th>\n",
       "      <th>created_utc</th>\n",
       "      <th>selftext</th>\n",
       "      <th>subreddit</th>\n",
       "      <th>title</th>\n",
       "      <th>title_word_count</th>\n",
       "      <th>selftext_word_count</th>\n",
       "    </tr>\n",
       "  </thead>\n",
       "  <tbody>\n",
       "    <tr>\n",
       "      <th>0</th>\n",
       "      <td>OnRark</td>\n",
       "      <td>1595489993</td>\n",
       "      <td>Im 21M. \\n\\nAs the title says, My grandad true...</td>\n",
       "      <td>Advice</td>\n",
       "      <td>My Grandad’s my best friend.</td>\n",
       "      <td>5</td>\n",
       "      <td>102</td>\n",
       "    </tr>\n",
       "    <tr>\n",
       "      <th>1</th>\n",
       "      <td>Dazzlinn</td>\n",
       "      <td>1595489985</td>\n",
       "      <td>My best friend (18M) has his birthday this wee...</td>\n",
       "      <td>Advice</td>\n",
       "      <td>Should I text my best friend who ghosted on me...</td>\n",
       "      <td>13</td>\n",
       "      <td>139</td>\n",
       "    </tr>\n",
       "    <tr>\n",
       "      <th>2</th>\n",
       "      <td>[deleted]</td>\n",
       "      <td>1595489878</td>\n",
       "      <td>None</td>\n",
       "      <td>Advice</td>\n",
       "      <td>I (27M) booked an escort (48f) for tomorrow bu...</td>\n",
       "      <td>19</td>\n",
       "      <td>1</td>\n",
       "    </tr>\n",
       "    <tr>\n",
       "      <th>3</th>\n",
       "      <td>zaachy</td>\n",
       "      <td>1595489863</td>\n",
       "      <td>So my best friend for 3 years all of a sudden ...</td>\n",
       "      <td>Advice</td>\n",
       "      <td>I need some help on what to do.</td>\n",
       "      <td>8</td>\n",
       "      <td>217</td>\n",
       "    </tr>\n",
       "    <tr>\n",
       "      <th>4</th>\n",
       "      <td>DoodleJack1</td>\n",
       "      <td>1595489688</td>\n",
       "      <td>I’m a 22 year old student from the UK, the fin...</td>\n",
       "      <td>Advice</td>\n",
       "      <td>Getting over it (a mental block)</td>\n",
       "      <td>6</td>\n",
       "      <td>258</td>\n",
       "    </tr>\n",
       "  </tbody>\n",
       "</table>\n",
       "</div>"
      ],
      "text/plain": [
       "        author  created_utc  \\\n",
       "0       OnRark   1595489993   \n",
       "1     Dazzlinn   1595489985   \n",
       "2    [deleted]   1595489878   \n",
       "3       zaachy   1595489863   \n",
       "4  DoodleJack1   1595489688   \n",
       "\n",
       "                                            selftext subreddit  \\\n",
       "0  Im 21M. \\n\\nAs the title says, My grandad true...    Advice   \n",
       "1  My best friend (18M) has his birthday this wee...    Advice   \n",
       "2                                               None    Advice   \n",
       "3  So my best friend for 3 years all of a sudden ...    Advice   \n",
       "4  I’m a 22 year old student from the UK, the fin...    Advice   \n",
       "\n",
       "                                               title  title_word_count  \\\n",
       "0                       My Grandad’s my best friend.                 5   \n",
       "1  Should I text my best friend who ghosted on me...                13   \n",
       "2  I (27M) booked an escort (48f) for tomorrow bu...                19   \n",
       "3                    I need some help on what to do.                 8   \n",
       "4                   Getting over it (a mental block)                 6   \n",
       "\n",
       "   selftext_word_count  \n",
       "0                  102  \n",
       "1                  139  \n",
       "2                    1  \n",
       "3                  217  \n",
       "4                  258  "
      ]
     },
     "execution_count": 49,
     "metadata": {},
     "output_type": "execute_result"
    }
   ],
   "source": [
    "advice.head()"
   ]
  },
  {
   "cell_type": "code",
   "execution_count": 64,
   "metadata": {},
   "outputs": [],
   "source": [
    "both_subreddits = pd.concat([eli5, advice])"
   ]
  },
  {
   "cell_type": "code",
   "execution_count": 65,
   "metadata": {},
   "outputs": [
    {
     "data": {
      "text/html": [
       "<div>\n",
       "<style scoped>\n",
       "    .dataframe tbody tr th:only-of-type {\n",
       "        vertical-align: middle;\n",
       "    }\n",
       "\n",
       "    .dataframe tbody tr th {\n",
       "        vertical-align: top;\n",
       "    }\n",
       "\n",
       "    .dataframe thead th {\n",
       "        text-align: right;\n",
       "    }\n",
       "</style>\n",
       "<table border=\"1\" class=\"dataframe\">\n",
       "  <thead>\n",
       "    <tr style=\"text-align: right;\">\n",
       "      <th></th>\n",
       "      <th>author</th>\n",
       "      <th>created_utc</th>\n",
       "      <th>selftext</th>\n",
       "      <th>subreddit</th>\n",
       "      <th>title</th>\n",
       "      <th>title_word_count</th>\n",
       "      <th>selftext_word_count</th>\n",
       "    </tr>\n",
       "  </thead>\n",
       "  <tbody>\n",
       "    <tr>\n",
       "      <th>0</th>\n",
       "      <td>mwilliams7187</td>\n",
       "      <td>1595208496</td>\n",
       "      <td>[removed]</td>\n",
       "      <td>explainlikeimfive</td>\n",
       "      <td>ELI5: If our Sun is a Star, does that mean mos...</td>\n",
       "      <td>26</td>\n",
       "      <td>1</td>\n",
       "    </tr>\n",
       "    <tr>\n",
       "      <th>1</th>\n",
       "      <td>salzal</td>\n",
       "      <td>1595208420</td>\n",
       "      <td>[removed]</td>\n",
       "      <td>explainlikeimfive</td>\n",
       "      <td>Eli5: If wearing a face mask doesn’t reduce ox...</td>\n",
       "      <td>21</td>\n",
       "      <td>1</td>\n",
       "    </tr>\n",
       "    <tr>\n",
       "      <th>2</th>\n",
       "      <td>[deleted]</td>\n",
       "      <td>1595208362</td>\n",
       "      <td>None</td>\n",
       "      <td>explainlikeimfive</td>\n",
       "      <td>Why are horse shoes necessary when they seem t...</td>\n",
       "      <td>16</td>\n",
       "      <td>1</td>\n",
       "    </tr>\n",
       "    <tr>\n",
       "      <th>3</th>\n",
       "      <td>Bar_Delicious</td>\n",
       "      <td>1595208332</td>\n",
       "      <td>[removed]</td>\n",
       "      <td>explainlikeimfive</td>\n",
       "      <td>Government</td>\n",
       "      <td>1</td>\n",
       "      <td>1</td>\n",
       "    </tr>\n",
       "    <tr>\n",
       "      <th>4</th>\n",
       "      <td>GarbageMiserable0x0</td>\n",
       "      <td>1595208225</td>\n",
       "      <td>[removed]</td>\n",
       "      <td>explainlikeimfive</td>\n",
       "      <td>Do you want to get free games and prizes in yo...</td>\n",
       "      <td>14</td>\n",
       "      <td>1</td>\n",
       "    </tr>\n",
       "    <tr>\n",
       "      <th>...</th>\n",
       "      <td>...</td>\n",
       "      <td>...</td>\n",
       "      <td>...</td>\n",
       "      <td>...</td>\n",
       "      <td>...</td>\n",
       "      <td>...</td>\n",
       "      <td>...</td>\n",
       "    </tr>\n",
       "    <tr>\n",
       "      <th>4995</th>\n",
       "      <td>DustinJohnsonsTears</td>\n",
       "      <td>1595112336</td>\n",
       "      <td>Okay so my (24M) best friend (24F) has had an ...</td>\n",
       "      <td>Advice</td>\n",
       "      <td>How to help my friend with severe depression?</td>\n",
       "      <td>8</td>\n",
       "      <td>484</td>\n",
       "    </tr>\n",
       "    <tr>\n",
       "      <th>4996</th>\n",
       "      <td>sea316</td>\n",
       "      <td>1595112293</td>\n",
       "      <td>[removed]</td>\n",
       "      <td>Advice</td>\n",
       "      <td>My parents support trump and my brother isnt s...</td>\n",
       "      <td>12</td>\n",
       "      <td>1</td>\n",
       "    </tr>\n",
       "    <tr>\n",
       "      <th>4997</th>\n",
       "      <td>gothiccthot666</td>\n",
       "      <td>1595112270</td>\n",
       "      <td>My family has a long history of depression but...</td>\n",
       "      <td>Advice</td>\n",
       "      <td>My mother is suicidal</td>\n",
       "      <td>4</td>\n",
       "      <td>218</td>\n",
       "    </tr>\n",
       "    <tr>\n",
       "      <th>4998</th>\n",
       "      <td>NeonStormFire</td>\n",
       "      <td>1595112093</td>\n",
       "      <td>So, my partner(27M) and I(25F) will be getting...</td>\n",
       "      <td>Advice</td>\n",
       "      <td>How to bring up moving out to parents?</td>\n",
       "      <td>8</td>\n",
       "      <td>187</td>\n",
       "    </tr>\n",
       "    <tr>\n",
       "      <th>4999</th>\n",
       "      <td>ajksbwkskt</td>\n",
       "      <td>1595112050</td>\n",
       "      <td>Hi I’m 17f in the uk (for context) and a few w...</td>\n",
       "      <td>Advice</td>\n",
       "      <td>Stolen mail</td>\n",
       "      <td>2</td>\n",
       "      <td>197</td>\n",
       "    </tr>\n",
       "  </tbody>\n",
       "</table>\n",
       "<p>10000 rows × 7 columns</p>\n",
       "</div>"
      ],
      "text/plain": [
       "                   author  created_utc  \\\n",
       "0           mwilliams7187   1595208496   \n",
       "1                  salzal   1595208420   \n",
       "2               [deleted]   1595208362   \n",
       "3           Bar_Delicious   1595208332   \n",
       "4     GarbageMiserable0x0   1595208225   \n",
       "...                   ...          ...   \n",
       "4995  DustinJohnsonsTears   1595112336   \n",
       "4996               sea316   1595112293   \n",
       "4997       gothiccthot666   1595112270   \n",
       "4998        NeonStormFire   1595112093   \n",
       "4999           ajksbwkskt   1595112050   \n",
       "\n",
       "                                               selftext          subreddit  \\\n",
       "0                                             [removed]  explainlikeimfive   \n",
       "1                                             [removed]  explainlikeimfive   \n",
       "2                                                  None  explainlikeimfive   \n",
       "3                                             [removed]  explainlikeimfive   \n",
       "4                                             [removed]  explainlikeimfive   \n",
       "...                                                 ...                ...   \n",
       "4995  Okay so my (24M) best friend (24F) has had an ...             Advice   \n",
       "4996                                          [removed]             Advice   \n",
       "4997  My family has a long history of depression but...             Advice   \n",
       "4998  So, my partner(27M) and I(25F) will be getting...             Advice   \n",
       "4999  Hi I’m 17f in the uk (for context) and a few w...             Advice   \n",
       "\n",
       "                                                  title  title_word_count  \\\n",
       "0     ELI5: If our Sun is a Star, does that mean mos...                26   \n",
       "1     Eli5: If wearing a face mask doesn’t reduce ox...                21   \n",
       "2     Why are horse shoes necessary when they seem t...                16   \n",
       "3                                            Government                 1   \n",
       "4     Do you want to get free games and prizes in yo...                14   \n",
       "...                                                 ...               ...   \n",
       "4995      How to help my friend with severe depression?                 8   \n",
       "4996  My parents support trump and my brother isnt s...                12   \n",
       "4997                              My mother is suicidal                 4   \n",
       "4998             How to bring up moving out to parents?                 8   \n",
       "4999                                        Stolen mail                 2   \n",
       "\n",
       "      selftext_word_count  \n",
       "0                       1  \n",
       "1                       1  \n",
       "2                       1  \n",
       "3                       1  \n",
       "4                       1  \n",
       "...                   ...  \n",
       "4995                  484  \n",
       "4996                    1  \n",
       "4997                  218  \n",
       "4998                  187  \n",
       "4999                  197  \n",
       "\n",
       "[10000 rows x 7 columns]"
      ]
     },
     "execution_count": 65,
     "metadata": {},
     "output_type": "execute_result"
    }
   ],
   "source": [
    "both_subreddits"
   ]
  },
  {
   "cell_type": "code",
   "execution_count": 66,
   "metadata": {},
   "outputs": [],
   "source": [
    "# both_subreddits.to_csv('./data/both_subreddits.csv', index = False)"
   ]
  },
  {
   "cell_type": "code",
   "execution_count": null,
   "metadata": {},
   "outputs": [],
   "source": []
  }
 ],
 "metadata": {
  "kernelspec": {
   "display_name": "Python 3",
   "language": "python",
   "name": "python3"
  },
  "language_info": {
   "codemirror_mode": {
    "name": "ipython",
    "version": 3
   },
   "file_extension": ".py",
   "mimetype": "text/x-python",
   "name": "python",
   "nbconvert_exporter": "python",
   "pygments_lexer": "ipython3",
   "version": "3.7.6"
  }
 },
 "nbformat": 4,
 "nbformat_minor": 4
}
